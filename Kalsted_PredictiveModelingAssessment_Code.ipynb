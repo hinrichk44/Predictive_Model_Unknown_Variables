{
 "cells": [
  {
   "cell_type": "markdown",
   "metadata": {},
   "source": [
    "# Importing Basic Libraries"
   ]
  },
  {
   "cell_type": "code",
   "execution_count": 1,
   "metadata": {},
   "outputs": [],
   "source": [
    "import matplotlib.pyplot as plt\n",
    "import numpy as np\n",
    "import pandas as pd\n",
    "import seaborn as sns\n",
    "plt.style.use('fivethirtyeight')\n",
    "%matplotlib inline"
   ]
  },
  {
   "cell_type": "markdown",
   "metadata": {},
   "source": [
    "# Importing the Dataset"
   ]
  },
  {
   "cell_type": "code",
   "execution_count": 2,
   "metadata": {},
   "outputs": [],
   "source": [
    "assessment_1 = pd.read_csv(\"PredictiveModelingAssessmentData.csv\")"
   ]
  },
  {
   "cell_type": "code",
   "execution_count": 3,
   "metadata": {},
   "outputs": [
    {
     "data": {
      "text/html": [
       "<div>\n",
       "<style scoped>\n",
       "    .dataframe tbody tr th:only-of-type {\n",
       "        vertical-align: middle;\n",
       "    }\n",
       "\n",
       "    .dataframe tbody tr th {\n",
       "        vertical-align: top;\n",
       "    }\n",
       "\n",
       "    .dataframe thead th {\n",
       "        text-align: right;\n",
       "    }\n",
       "</style>\n",
       "<table border=\"1\" class=\"dataframe\">\n",
       "  <thead>\n",
       "    <tr style=\"text-align: right;\">\n",
       "      <th></th>\n",
       "      <th>y</th>\n",
       "      <th>x1</th>\n",
       "      <th>x2</th>\n",
       "    </tr>\n",
       "  </thead>\n",
       "  <tbody>\n",
       "    <tr>\n",
       "      <th>0</th>\n",
       "      <td>1.300215</td>\n",
       "      <td>-0.054425</td>\n",
       "      <td>0.738897</td>\n",
       "    </tr>\n",
       "    <tr>\n",
       "      <th>1</th>\n",
       "      <td>-0.805025</td>\n",
       "      <td>0.130174</td>\n",
       "      <td>0.977855</td>\n",
       "    </tr>\n",
       "    <tr>\n",
       "      <th>2</th>\n",
       "      <td>2.801926</td>\n",
       "      <td>1.749007</td>\n",
       "      <td>1.352562</td>\n",
       "    </tr>\n",
       "    <tr>\n",
       "      <th>3</th>\n",
       "      <td>3.123490</td>\n",
       "      <td>-0.979458</td>\n",
       "      <td>1.664484</td>\n",
       "    </tr>\n",
       "    <tr>\n",
       "      <th>4</th>\n",
       "      <td>3.445728</td>\n",
       "      <td>0.300521</td>\n",
       "      <td>2.988848</td>\n",
       "    </tr>\n",
       "  </tbody>\n",
       "</table>\n",
       "</div>"
      ],
      "text/plain": [
       "          y        x1        x2\n",
       "0  1.300215 -0.054425  0.738897\n",
       "1 -0.805025  0.130174  0.977855\n",
       "2  2.801926  1.749007  1.352562\n",
       "3  3.123490 -0.979458  1.664484\n",
       "4  3.445728  0.300521  2.988848"
      ]
     },
     "execution_count": 3,
     "metadata": {},
     "output_type": "execute_result"
    }
   ],
   "source": [
    "assessment_1.head()"
   ]
  },
  {
   "cell_type": "markdown",
   "metadata": {},
   "source": [
    "# Basic Exploratory Analysis"
   ]
  },
  {
   "cell_type": "code",
   "execution_count": 4,
   "metadata": {},
   "outputs": [
    {
     "data": {
      "text/plain": [
       "(5000, 3)"
      ]
     },
     "execution_count": 4,
     "metadata": {},
     "output_type": "execute_result"
    }
   ],
   "source": [
    "assessment_1.shape\n",
    "\n",
    "#There are 5000 rows and three columns"
   ]
  },
  {
   "cell_type": "code",
   "execution_count": 5,
   "metadata": {},
   "outputs": [
    {
     "data": {
      "text/plain": [
       "y     float64\n",
       "x1    float64\n",
       "x2    float64\n",
       "dtype: object"
      ]
     },
     "execution_count": 5,
     "metadata": {},
     "output_type": "execute_result"
    }
   ],
   "source": [
    "assessment_1.dtypes\n",
    "\n",
    "#All variables are expressed as floats. It does not seem like any of them should be converted to categorical variables."
   ]
  },
  {
   "cell_type": "code",
   "execution_count": 6,
   "metadata": {},
   "outputs": [
    {
     "data": {
      "text/plain": [
       "y     0\n",
       "x1    0\n",
       "x2    0\n",
       "dtype: int64"
      ]
     },
     "execution_count": 6,
     "metadata": {},
     "output_type": "execute_result"
    }
   ],
   "source": [
    "assessment_1.isna().sum()"
   ]
  },
  {
   "cell_type": "markdown",
   "metadata": {},
   "source": [
    "There are no missing values in our data. (I know you said to assume no errors, but I just wanted to show a full analysis)"
   ]
  },
  {
   "cell_type": "code",
   "execution_count": 7,
   "metadata": {},
   "outputs": [
    {
     "data": {
      "text/html": [
       "<div>\n",
       "<style scoped>\n",
       "    .dataframe tbody tr th:only-of-type {\n",
       "        vertical-align: middle;\n",
       "    }\n",
       "\n",
       "    .dataframe tbody tr th {\n",
       "        vertical-align: top;\n",
       "    }\n",
       "\n",
       "    .dataframe thead th {\n",
       "        text-align: right;\n",
       "    }\n",
       "</style>\n",
       "<table border=\"1\" class=\"dataframe\">\n",
       "  <thead>\n",
       "    <tr style=\"text-align: right;\">\n",
       "      <th></th>\n",
       "      <th>y</th>\n",
       "      <th>x1</th>\n",
       "      <th>x2</th>\n",
       "    </tr>\n",
       "  </thead>\n",
       "  <tbody>\n",
       "    <tr>\n",
       "      <th>count</th>\n",
       "      <td>5000.000000</td>\n",
       "      <td>5000.000000</td>\n",
       "      <td>5000.000000</td>\n",
       "    </tr>\n",
       "    <tr>\n",
       "      <th>mean</th>\n",
       "      <td>1.048158</td>\n",
       "      <td>-0.003752</td>\n",
       "      <td>1.503146</td>\n",
       "    </tr>\n",
       "    <tr>\n",
       "      <th>std</th>\n",
       "      <td>1.992383</td>\n",
       "      <td>1.008551</td>\n",
       "      <td>1.077676</td>\n",
       "    </tr>\n",
       "    <tr>\n",
       "      <th>min</th>\n",
       "      <td>-9.847133</td>\n",
       "      <td>-3.503908</td>\n",
       "      <td>0.015279</td>\n",
       "    </tr>\n",
       "    <tr>\n",
       "      <th>25%</th>\n",
       "      <td>-0.193654</td>\n",
       "      <td>-0.674079</td>\n",
       "      <td>0.733216</td>\n",
       "    </tr>\n",
       "    <tr>\n",
       "      <th>50%</th>\n",
       "      <td>1.002366</td>\n",
       "      <td>-0.002352</td>\n",
       "      <td>1.252496</td>\n",
       "    </tr>\n",
       "    <tr>\n",
       "      <th>75%</th>\n",
       "      <td>2.201069</td>\n",
       "      <td>0.664764</td>\n",
       "      <td>2.017572</td>\n",
       "    </tr>\n",
       "    <tr>\n",
       "      <th>max</th>\n",
       "      <td>10.274068</td>\n",
       "      <td>3.274246</td>\n",
       "      <td>8.126406</td>\n",
       "    </tr>\n",
       "  </tbody>\n",
       "</table>\n",
       "</div>"
      ],
      "text/plain": [
       "                 y           x1           x2\n",
       "count  5000.000000  5000.000000  5000.000000\n",
       "mean      1.048158    -0.003752     1.503146\n",
       "std       1.992383     1.008551     1.077676\n",
       "min      -9.847133    -3.503908     0.015279\n",
       "25%      -0.193654    -0.674079     0.733216\n",
       "50%       1.002366    -0.002352     1.252496\n",
       "75%       2.201069     0.664764     2.017572\n",
       "max      10.274068     3.274246     8.126406"
      ]
     },
     "execution_count": 7,
     "metadata": {},
     "output_type": "execute_result"
    }
   ],
   "source": [
    "assessment_1.describe()"
   ]
  },
  {
   "cell_type": "markdown",
   "metadata": {},
   "source": [
    "So it looks like X1 ranges from -3 to 3. X2 ranges from 0 to 8, and y ranges from -10 to 10. These ranges could be important to know for future modeling. "
   ]
  },
  {
   "cell_type": "code",
   "execution_count": 8,
   "metadata": {},
   "outputs": [
    {
     "data": {
      "image/png": "[encoded data removed]",
      "text/plain": [
       "<Figure size 432x288 with 1 Axes>"
      ]
     },
     "metadata": {
      "needs_background": "light"
     },
     "output_type": "display_data"
    }
   ],
   "source": [
    "ax = assessment_1.plot(kind='scatter', x='x1', y='y')\n",
    "plt.ylabel(\"Mystery Dependent Variable\")\n",
    "plt.xlabel(\"Mystery Independent Variable 1\")\n",
    "plt.title(\"Predictive Assessment Model\");"
   ]
  },
  {
   "cell_type": "code",
   "execution_count": 9,
   "metadata": {},
   "outputs": [
    {
     "data": {
      "image/png": "[encoded data removed]",
      "text/plain": [
       "<Figure size 432x288 with 1 Axes>"
      ]
     },
     "metadata": {
      "needs_background": "light"
     },
     "output_type": "display_data"
    }
   ],
   "source": [
    "ax = assessment_1.plot(kind='scatter', x='x2', y='y')\n",
    "plt.ylabel(\"Mystery Dependent Variable\")\n",
    "plt.xlabel(\"Mystery Independent Variable 2\")\n",
    "plt.title(\"Predictive Assessment Model\");"
   ]
  },
  {
   "cell_type": "markdown",
   "metadata": {},
   "source": [
    "I don't see too clear of a relationship between the X and y variables. Maybe a slightly positive relationship."
   ]
  },
  {
   "cell_type": "code",
   "execution_count": 10,
   "metadata": {},
   "outputs": [
    {
     "data": {
      "image/png": "[encoded data removed]",
      "text/plain": [
       "<Figure size 432x288 with 2 Axes>"
      ]
     },
     "metadata": {
      "needs_background": "light"
     },
     "output_type": "display_data"
    }
   ],
   "source": [
    "ax = sns.heatmap(assessment_1.corr(), vmin=-1, vmax=1, annot=True, cmap=sns.diverging_palette(300, 20, n=21))"
   ]
  },
  {
   "cell_type": "markdown",
   "metadata": {},
   "source": [
    "Judging by the heatmap, X2 strongly correlates to y, X1 weakly correlates to y. The good news is that X1 and X2 are very weakly correlated with each other so we don't have to worry too much about collinearity."
   ]
  },
  {
   "cell_type": "markdown",
   "metadata": {},
   "source": [
    "# Basic Linear Regression"
   ]
  },
  {
   "cell_type": "markdown",
   "metadata": {},
   "source": [
    "I believe starting off analysis of the data with standard linear regression makes the most sense because you can see the preliminary relationships easier. Then, you can build your model as a derivative of the standard model."
   ]
  },
  {
   "cell_type": "markdown",
   "metadata": {},
   "source": [
    "#### Separating X and Y Variables"
   ]
  },
  {
   "cell_type": "code",
   "execution_count": 11,
   "metadata": {},
   "outputs": [],
   "source": [
    "X = assessment_1.iloc[:,1:3].values\n",
    "y = assessment_1.iloc[:, 0].values"
   ]
  },
  {
   "cell_type": "markdown",
   "metadata": {},
   "source": [
    "#### Creating a Training and Test Set"
   ]
  },
  {
   "cell_type": "code",
   "execution_count": 12,
   "metadata": {},
   "outputs": [],
   "source": [
    "from sklearn.model_selection import train_test_split\n",
    "\n",
    "X_train, X_test, y_train, y_test = train_test_split(X, y, test_size = .2, random_state=0)\n",
    "\n",
    "#I am setting aside 80% of the data for the training set and 20% for the test set. "
   ]
  },
  {
   "cell_type": "code",
   "execution_count": 13,
   "metadata": {},
   "outputs": [
    {
     "data": {
      "text/plain": [
       "LinearRegression(copy_X=True, fit_intercept=True, n_jobs=None,\n",
       "         normalize=False)"
      ]
     },
     "execution_count": 13,
     "metadata": {},
     "output_type": "execute_result"
    }
   ],
   "source": [
    "from sklearn.linear_model import LinearRegression\n",
    "\n",
    "lr = LinearRegression()\n",
    "\n",
    "lr.fit(X_train, y_train)"
   ]
  },
  {
   "cell_type": "code",
   "execution_count": 14,
   "metadata": {},
   "outputs": [
    {
     "name": "stdout",
     "output_type": "stream",
     "text": [
      "0.4691177216349711\n",
      "0.4523910290639169\n"
     ]
    }
   ],
   "source": [
    "#Scoring the model on the training set and test set.\n",
    "#These are the R-squared values for the training set and test set. \n",
    "\n",
    "print(lr.score(X_train, y_train))\n",
    "print(lr.score(X_test, y_test))"
   ]
  },
  {
   "cell_type": "markdown",
   "metadata": {},
   "source": [
    "At first glance this model seems stable. The training set was able to capture 47% of the variance in the model and the test set was able to capture 45% of the variance. There is only a tiny discrepancy in the R-squared values between the training and test set so I am not too worried about high variance problems. The model might be suffering from underfitting though since it is not very predictive."
   ]
  },
  {
   "cell_type": "code",
   "execution_count": 15,
   "metadata": {},
   "outputs": [
    {
     "name": "stdout",
     "output_type": "stream",
     "text": [
      "1.465750990002121\n"
     ]
    }
   ],
   "source": [
    "from sklearn.metrics import mean_squared_error\n",
    "from math import sqrt\n",
    "\n",
    "rmse_lr = sqrt(mean_squared_error(lr.predict(X_test), y_test))\n",
    "\n",
    "print(rmse_lr)"
   ]
  },
  {
   "cell_type": "markdown",
   "metadata": {},
   "source": [
    "#### Backward Elimination Version of Model Building"
   ]
  },
  {
   "cell_type": "markdown",
   "metadata": {},
   "source": [
    "Before I build on the standard linear regression model, I want to double check the significance of our explanatory variables. If one or more of our explanatory variables is not statistically significant, then perhaps we can remove them from the model and our model could become more predictive."
   ]
  },
  {
   "cell_type": "markdown",
   "metadata": {},
   "source": [
    "I learned several ways to build models (Backward Elimination, Forward Selection, etc) and I am most comfortable with Backward Elimination."
   ]
  },
  {
   "cell_type": "code",
   "execution_count": 16,
   "metadata": {},
   "outputs": [],
   "source": [
    "#We need to add a column for the constant in the multiple linear equation\n",
    "#Essentially we need a B0X0\n",
    "#The stats model library is useful, but does not contain the constant column, hence why we add it\n",
    "\n",
    "import statsmodels.formula.api as sm\n",
    "\n",
    "#This is specifically a column of 5000 \"ones\" since the constant will just multiply by one to keep its value\n",
    "#The append function helps us add a new column to our dataset\n",
    "X = np.append(arr =  np.ones((5000,1)).astype(int), values = X, axis = 1)"
   ]
  },
  {
   "cell_type": "code",
   "execution_count": 17,
   "metadata": {},
   "outputs": [
    {
     "name": "stdout",
     "output_type": "stream",
     "text": [
      "[[ 1.         -0.05442488  0.73889655]\n",
      " [ 1.          0.13017378  0.97785531]\n",
      " [ 1.          1.74900659  1.3525616 ]\n",
      " ...\n",
      " [ 1.         -0.06318463  0.30770302]\n",
      " [ 1.          0.35942927  0.21077722]\n",
      " [ 1.         -0.34570672  2.76505525]]\n"
     ]
    }
   ],
   "source": [
    "print(X)\n",
    "\n",
    "#As you can see we have a column of ones as intended"
   ]
  },
  {
   "cell_type": "code",
   "execution_count": 18,
   "metadata": {},
   "outputs": [],
   "source": [
    "#We are going to create a separate set of X variables that are \"high impact\" based on our criteria\n",
    "#First, we select a significance level needed to stay in the model. We will choose .05 to be simple\n",
    "#Second, we fit the model with all possible predictors \n",
    "X_optimal = X[:,[0,1,2]]\n",
    "\n",
    "regressor_OLS = sm.OLS(endog = y, exog = X_optimal).fit()"
   ]
  },
  {
   "cell_type": "code",
   "execution_count": 19,
   "metadata": {},
   "outputs": [
    {
     "data": {
      "text/html": [
       "<table class=\"simpletable\">\n",
       "<caption>OLS Regression Results</caption>\n",
       "<tr>\n",
       "  <th>Dep. Variable:</th>            <td>y</td>        <th>  R-squared:         </th> <td>   0.466</td> \n",
       "</tr>\n",
       "<tr>\n",
       "  <th>Model:</th>                   <td>OLS</td>       <th>  Adj. R-squared:    </th> <td>   0.466</td> \n",
       "</tr>\n",
       "<tr>\n",
       "  <th>Method:</th>             <td>Least Squares</td>  <th>  F-statistic:       </th> <td>   2180.</td> \n",
       "</tr>\n",
       "<tr>\n",
       "  <th>Date:</th>             <td>Sat, 25 Jan 2020</td> <th>  Prob (F-statistic):</th>  <td>  0.00</td>  \n",
       "</tr>\n",
       "<tr>\n",
       "  <th>Time:</th>                 <td>20:23:53</td>     <th>  Log-Likelihood:    </th> <td> -8972.8</td> \n",
       "</tr>\n",
       "<tr>\n",
       "  <th>No. Observations:</th>      <td>  5000</td>      <th>  AIC:               </th> <td>1.795e+04</td>\n",
       "</tr>\n",
       "<tr>\n",
       "  <th>Df Residuals:</th>          <td>  4997</td>      <th>  BIC:               </th> <td>1.797e+04</td>\n",
       "</tr>\n",
       "<tr>\n",
       "  <th>Df Model:</th>              <td>     2</td>      <th>                     </th>     <td> </td>    \n",
       "</tr>\n",
       "<tr>\n",
       "  <th>Covariance Type:</th>      <td>nonrobust</td>    <th>                     </th>     <td> </td>    \n",
       "</tr>\n",
       "</table>\n",
       "<table class=\"simpletable\">\n",
       "<tr>\n",
       "    <td></td>       <th>coef</th>     <th>std err</th>      <th>t</th>      <th>P>|t|</th>  <th>[0.025</th>    <th>0.975]</th>  \n",
       "</tr>\n",
       "<tr>\n",
       "  <th>const</th> <td>   -0.7005</td> <td>    0.035</td> <td>  -19.816</td> <td> 0.000</td> <td>   -0.770</td> <td>   -0.631</td>\n",
       "</tr>\n",
       "<tr>\n",
       "  <th>x1</th>    <td>    0.5112</td> <td>    0.020</td> <td>   25.028</td> <td> 0.000</td> <td>    0.471</td> <td>    0.551</td>\n",
       "</tr>\n",
       "<tr>\n",
       "  <th>x2</th>    <td>    1.1646</td> <td>    0.019</td> <td>   60.931</td> <td> 0.000</td> <td>    1.127</td> <td>    1.202</td>\n",
       "</tr>\n",
       "</table>\n",
       "<table class=\"simpletable\">\n",
       "<tr>\n",
       "  <th>Omnibus:</th>       <td>71.196</td> <th>  Durbin-Watson:     </th> <td>   1.990</td>\n",
       "</tr>\n",
       "<tr>\n",
       "  <th>Prob(Omnibus):</th> <td> 0.000</td> <th>  Jarque-Bera (JB):  </th> <td> 126.557</td>\n",
       "</tr>\n",
       "<tr>\n",
       "  <th>Skew:</th>          <td>-0.070</td> <th>  Prob(JB):          </th> <td>3.30e-28</td>\n",
       "</tr>\n",
       "<tr>\n",
       "  <th>Kurtosis:</th>      <td> 3.767</td> <th>  Cond. No.          </th> <td>    3.84</td>\n",
       "</tr>\n",
       "</table><br/><br/>Warnings:<br/>[1] Standard Errors assume that the covariance matrix of the errors is correctly specified."
      ],
      "text/plain": [
       "<class 'statsmodels.iolib.summary.Summary'>\n",
       "\"\"\"\n",
       "                            OLS Regression Results                            \n",
       "==============================================================================\n",
       "Dep. Variable:                      y   R-squared:                       0.466\n",
       "Model:                            OLS   Adj. R-squared:                  0.466\n",
       "Method:                 Least Squares   F-statistic:                     2180.\n",
       "Date:                Sat, 25 Jan 2020   Prob (F-statistic):               0.00\n",
       "Time:                        20:23:53   Log-Likelihood:                -8972.8\n",
       "No. Observations:                5000   AIC:                         1.795e+04\n",
       "Df Residuals:                    4997   BIC:                         1.797e+04\n",
       "Df Model:                           2                                         \n",
       "Covariance Type:            nonrobust                                         \n",
       "==============================================================================\n",
       "                 coef    std err          t      P>|t|      [0.025      0.975]\n",
       "------------------------------------------------------------------------------\n",
       "const         -0.7005      0.035    -19.816      0.000      -0.770      -0.631\n",
       "x1             0.5112      0.020     25.028      0.000       0.471       0.551\n",
       "x2             1.1646      0.019     60.931      0.000       1.127       1.202\n",
       "==============================================================================\n",
       "Omnibus:                       71.196   Durbin-Watson:                   1.990\n",
       "Prob(Omnibus):                  0.000   Jarque-Bera (JB):              126.557\n",
       "Skew:                          -0.070   Prob(JB):                     3.30e-28\n",
       "Kurtosis:                       3.767   Cond. No.                         3.84\n",
       "==============================================================================\n",
       "\n",
       "Warnings:\n",
       "[1] Standard Errors assume that the covariance matrix of the errors is correctly specified.\n",
       "\"\"\""
      ]
     },
     "execution_count": 19,
     "metadata": {},
     "output_type": "execute_result"
    }
   ],
   "source": [
    "#Here we are checking the p-values of our various X variables\n",
    "\n",
    "regressor_OLS.summary()"
   ]
  },
  {
   "cell_type": "markdown",
   "metadata": {},
   "source": [
    "Well, that was easy. All of the X-variables in our model are statistically significant. I will not remove any of them from the model."
   ]
  },
  {
   "cell_type": "markdown",
   "metadata": {},
   "source": [
    "#### Applying the Model to Test Data"
   ]
  },
  {
   "cell_type": "markdown",
   "metadata": {},
   "source": [
    "Even though the standard linear regression model did not seem very predictive, I think it's important to derive the predicted values as a way of comparison to future models."
   ]
  },
  {
   "cell_type": "code",
   "execution_count": 20,
   "metadata": {},
   "outputs": [],
   "source": [
    "test_data = pd.read_csv(\"TestData.csv\")"
   ]
  },
  {
   "cell_type": "code",
   "execution_count": 21,
   "metadata": {},
   "outputs": [
    {
     "data": {
      "text/html": [
       "<div>\n",
       "<style scoped>\n",
       "    .dataframe tbody tr th:only-of-type {\n",
       "        vertical-align: middle;\n",
       "    }\n",
       "\n",
       "    .dataframe tbody tr th {\n",
       "        vertical-align: top;\n",
       "    }\n",
       "\n",
       "    .dataframe thead th {\n",
       "        text-align: right;\n",
       "    }\n",
       "</style>\n",
       "<table border=\"1\" class=\"dataframe\">\n",
       "  <thead>\n",
       "    <tr style=\"text-align: right;\">\n",
       "      <th></th>\n",
       "      <th>ID</th>\n",
       "      <th>x1</th>\n",
       "      <th>x2</th>\n",
       "    </tr>\n",
       "  </thead>\n",
       "  <tbody>\n",
       "    <tr>\n",
       "      <th>0</th>\n",
       "      <td>1</td>\n",
       "      <td>-1.372412</td>\n",
       "      <td>0.641527</td>\n",
       "    </tr>\n",
       "    <tr>\n",
       "      <th>1</th>\n",
       "      <td>2</td>\n",
       "      <td>-1.264036</td>\n",
       "      <td>1.581535</td>\n",
       "    </tr>\n",
       "    <tr>\n",
       "      <th>2</th>\n",
       "      <td>3</td>\n",
       "      <td>-0.662299</td>\n",
       "      <td>0.302180</td>\n",
       "    </tr>\n",
       "    <tr>\n",
       "      <th>3</th>\n",
       "      <td>4</td>\n",
       "      <td>-0.344315</td>\n",
       "      <td>2.481366</td>\n",
       "    </tr>\n",
       "    <tr>\n",
       "      <th>4</th>\n",
       "      <td>5</td>\n",
       "      <td>0.463254</td>\n",
       "      <td>1.923973</td>\n",
       "    </tr>\n",
       "  </tbody>\n",
       "</table>\n",
       "</div>"
      ],
      "text/plain": [
       "   ID        x1        x2\n",
       "0   1 -1.372412  0.641527\n",
       "1   2 -1.264036  1.581535\n",
       "2   3 -0.662299  0.302180\n",
       "3   4 -0.344315  2.481366\n",
       "4   5  0.463254  1.923973"
      ]
     },
     "execution_count": 21,
     "metadata": {},
     "output_type": "execute_result"
    }
   ],
   "source": [
    "test_data.head()"
   ]
  },
  {
   "cell_type": "markdown",
   "metadata": {},
   "source": [
    "Here I am filtering out the test data that we will use for our model"
   ]
  },
  {
   "cell_type": "code",
   "execution_count": 22,
   "metadata": {},
   "outputs": [],
   "source": [
    "X_test2 = test_data.iloc[:,1:3].values"
   ]
  },
  {
   "cell_type": "code",
   "execution_count": 23,
   "metadata": {},
   "outputs": [
    {
     "name": "stdout",
     "output_type": "stream",
     "text": [
      "[[-1.3724117   0.64152749]\n",
      " [-1.26403638  1.58153531]\n",
      " [-0.66229865  0.30217961]\n",
      " ...\n",
      " [-2.70556215  5.28486016]\n",
      " [-1.48573566  0.90791403]\n",
      " [ 0.3123814   1.10833039]]\n"
     ]
    }
   ],
   "source": [
    "print(X_test2)"
   ]
  },
  {
   "cell_type": "code",
   "execution_count": 24,
   "metadata": {},
   "outputs": [],
   "source": [
    "lr_pred = lr.predict(X_test2)"
   ]
  },
  {
   "cell_type": "code",
   "execution_count": 25,
   "metadata": {},
   "outputs": [
    {
     "name": "stdout",
     "output_type": "stream",
     "text": [
      "[-0.67383431  0.47770753 -0.69230695 ...  4.02374793 -0.42386862\n",
      "  0.76274627]\n"
     ]
    }
   ],
   "source": [
    "print(lr_pred)"
   ]
  },
  {
   "cell_type": "code",
   "execution_count": 26,
   "metadata": {},
   "outputs": [
    {
     "data": {
      "text/plain": [
       "dtype('float64')"
      ]
     },
     "execution_count": 26,
     "metadata": {},
     "output_type": "execute_result"
    }
   ],
   "source": [
    "lr_pred.dtype"
   ]
  },
  {
   "cell_type": "code",
   "execution_count": 27,
   "metadata": {},
   "outputs": [
    {
     "data": {
      "text/plain": [
       "numpy.ndarray"
      ]
     },
     "execution_count": 27,
     "metadata": {},
     "output_type": "execute_result"
    }
   ],
   "source": [
    "type(lr_pred)"
   ]
  },
  {
   "cell_type": "markdown",
   "metadata": {},
   "source": [
    "#### Adding Our Linear Regression Predictions to Our Dataset"
   ]
  },
  {
   "cell_type": "code",
   "execution_count": 28,
   "metadata": {},
   "outputs": [],
   "source": [
    "linear_model = pd.concat([test_data, pd.DataFrame(lr_pred)], axis=1)"
   ]
  },
  {
   "cell_type": "code",
   "execution_count": 29,
   "metadata": {},
   "outputs": [
    {
     "data": {
      "text/html": [
       "<div>\n",
       "<style scoped>\n",
       "    .dataframe tbody tr th:only-of-type {\n",
       "        vertical-align: middle;\n",
       "    }\n",
       "\n",
       "    .dataframe tbody tr th {\n",
       "        vertical-align: top;\n",
       "    }\n",
       "\n",
       "    .dataframe thead th {\n",
       "        text-align: right;\n",
       "    }\n",
       "</style>\n",
       "<table border=\"1\" class=\"dataframe\">\n",
       "  <thead>\n",
       "    <tr style=\"text-align: right;\">\n",
       "      <th></th>\n",
       "      <th>ID</th>\n",
       "      <th>x1</th>\n",
       "      <th>x2</th>\n",
       "      <th>0</th>\n",
       "    </tr>\n",
       "  </thead>\n",
       "  <tbody>\n",
       "    <tr>\n",
       "      <th>0</th>\n",
       "      <td>1</td>\n",
       "      <td>-1.372412</td>\n",
       "      <td>0.641527</td>\n",
       "      <td>-0.673834</td>\n",
       "    </tr>\n",
       "    <tr>\n",
       "      <th>1</th>\n",
       "      <td>2</td>\n",
       "      <td>-1.264036</td>\n",
       "      <td>1.581535</td>\n",
       "      <td>0.477708</td>\n",
       "    </tr>\n",
       "    <tr>\n",
       "      <th>2</th>\n",
       "      <td>3</td>\n",
       "      <td>-0.662299</td>\n",
       "      <td>0.302180</td>\n",
       "      <td>-0.692307</td>\n",
       "    </tr>\n",
       "    <tr>\n",
       "      <th>3</th>\n",
       "      <td>4</td>\n",
       "      <td>-0.344315</td>\n",
       "      <td>2.481366</td>\n",
       "      <td>2.012656</td>\n",
       "    </tr>\n",
       "    <tr>\n",
       "      <th>4</th>\n",
       "      <td>5</td>\n",
       "      <td>0.463254</td>\n",
       "      <td>1.923973</td>\n",
       "      <td>1.792071</td>\n",
       "    </tr>\n",
       "  </tbody>\n",
       "</table>\n",
       "</div>"
      ],
      "text/plain": [
       "   ID        x1        x2         0\n",
       "0   1 -1.372412  0.641527 -0.673834\n",
       "1   2 -1.264036  1.581535  0.477708\n",
       "2   3 -0.662299  0.302180 -0.692307\n",
       "3   4 -0.344315  2.481366  2.012656\n",
       "4   5  0.463254  1.923973  1.792071"
      ]
     },
     "execution_count": 29,
     "metadata": {},
     "output_type": "execute_result"
    }
   ],
   "source": [
    "linear_model.head()"
   ]
  },
  {
   "cell_type": "code",
   "execution_count": 30,
   "metadata": {},
   "outputs": [],
   "source": [
    "linear_model = linear_model.rename({0: 'lr_pred'}, axis=1)"
   ]
  },
  {
   "cell_type": "code",
   "execution_count": 31,
   "metadata": {},
   "outputs": [
    {
     "data": {
      "text/html": [
       "<div>\n",
       "<style scoped>\n",
       "    .dataframe tbody tr th:only-of-type {\n",
       "        vertical-align: middle;\n",
       "    }\n",
       "\n",
       "    .dataframe tbody tr th {\n",
       "        vertical-align: top;\n",
       "    }\n",
       "\n",
       "    .dataframe thead th {\n",
       "        text-align: right;\n",
       "    }\n",
       "</style>\n",
       "<table border=\"1\" class=\"dataframe\">\n",
       "  <thead>\n",
       "    <tr style=\"text-align: right;\">\n",
       "      <th></th>\n",
       "      <th>ID</th>\n",
       "      <th>x1</th>\n",
       "      <th>x2</th>\n",
       "      <th>lr_pred</th>\n",
       "    </tr>\n",
       "  </thead>\n",
       "  <tbody>\n",
       "    <tr>\n",
       "      <th>0</th>\n",
       "      <td>1</td>\n",
       "      <td>-1.372412</td>\n",
       "      <td>0.641527</td>\n",
       "      <td>-0.673834</td>\n",
       "    </tr>\n",
       "    <tr>\n",
       "      <th>1</th>\n",
       "      <td>2</td>\n",
       "      <td>-1.264036</td>\n",
       "      <td>1.581535</td>\n",
       "      <td>0.477708</td>\n",
       "    </tr>\n",
       "    <tr>\n",
       "      <th>2</th>\n",
       "      <td>3</td>\n",
       "      <td>-0.662299</td>\n",
       "      <td>0.302180</td>\n",
       "      <td>-0.692307</td>\n",
       "    </tr>\n",
       "    <tr>\n",
       "      <th>3</th>\n",
       "      <td>4</td>\n",
       "      <td>-0.344315</td>\n",
       "      <td>2.481366</td>\n",
       "      <td>2.012656</td>\n",
       "    </tr>\n",
       "    <tr>\n",
       "      <th>4</th>\n",
       "      <td>5</td>\n",
       "      <td>0.463254</td>\n",
       "      <td>1.923973</td>\n",
       "      <td>1.792071</td>\n",
       "    </tr>\n",
       "  </tbody>\n",
       "</table>\n",
       "</div>"
      ],
      "text/plain": [
       "   ID        x1        x2   lr_pred\n",
       "0   1 -1.372412  0.641527 -0.673834\n",
       "1   2 -1.264036  1.581535  0.477708\n",
       "2   3 -0.662299  0.302180 -0.692307\n",
       "3   4 -0.344315  2.481366  2.012656\n",
       "4   5  0.463254  1.923973  1.792071"
      ]
     },
     "execution_count": 31,
     "metadata": {},
     "output_type": "execute_result"
    }
   ],
   "source": [
    "linear_model.head()"
   ]
  },
  {
   "cell_type": "markdown",
   "metadata": {},
   "source": [
    "# Log Transformation?"
   ]
  },
  {
   "cell_type": "markdown",
   "metadata": {},
   "source": [
    "Before I move on to more advanced models, I just wanted to see if a logarithmic transformation of the data would make sense"
   ]
  },
  {
   "cell_type": "code",
   "execution_count": 32,
   "metadata": {},
   "outputs": [
    {
     "name": "stderr",
     "output_type": "stream",
     "text": [
      "C:\\Users\\kalstedh\\AppData\\Local\\Continuum\\anaconda3\\lib\\site-packages\\ipykernel_launcher.py:3: RuntimeWarning: invalid value encountered in log\n",
      "  This is separate from the ipykernel package so we can avoid doing imports until\n"
     ]
    },
    {
     "data": {
      "image/png": "[encoded data removed]",
      "text/plain": [
       "<Figure size 432x288 with 1 Axes>"
      ]
     },
     "metadata": {
      "needs_background": "light"
     },
     "output_type": "display_data"
    }
   ],
   "source": [
    "#Although it doesn't seem like a log transformation would work I tried it out anyway just in case.\n",
    "\n",
    "log_assessment1 = np.log(assessment_1)\n",
    "ax = log_assessment1.plot(kind='scatter', x='x1', y='y');\n",
    "plt.ylabel(\"Mystery Dependent Variable (log)\")\n",
    "plt.xlabel(\"Mystery Independent Variable 1 (log)\")\n",
    "plt.title(\"Predictive Assessment Model (log transformation)\");"
   ]
  },
  {
   "cell_type": "code",
   "execution_count": 33,
   "metadata": {},
   "outputs": [
    {
     "data": {
      "image/png": "[encoded data removed]",
      "text/plain": [
       "<Figure size 432x288 with 1 Axes>"
      ]
     },
     "metadata": {
      "needs_background": "light"
     },
     "output_type": "display_data"
    }
   ],
   "source": [
    "ax = log_assessment1.plot(kind='scatter', x='x2', y='y');\n",
    "plt.ylabel(\"Mystery Dependent Variable (log)\")\n",
    "plt.xlabel(\"Mystery Independent Variable 2 (log)\")\n",
    "plt.title(\"Predictive Assessment Model (log transformation)\");"
   ]
  },
  {
   "cell_type": "code",
   "execution_count": 34,
   "metadata": {},
   "outputs": [
    {
     "data": {
      "image/png": "[encoded data removed]",
      "text/plain": [
       "<Figure size 432x288 with 2 Axes>"
      ]
     },
     "metadata": {
      "needs_background": "light"
     },
     "output_type": "display_data"
    }
   ],
   "source": [
    "ax = sns.heatmap(log_assessment1.corr(), vmin=-1, vmax=1, annot=True, cmap=sns.diverging_palette(300, 20, n=21))"
   ]
  },
  {
   "cell_type": "markdown",
   "metadata": {},
   "source": [
    "Overall I would say the log transformation of our data did not help in improving accuracy. X1 is correlated higher with y under a log transformation, but X2 has lost significant explanatory power and we don't want that."
   ]
  },
  {
   "cell_type": "markdown",
   "metadata": {},
   "source": [
    "# Random Forest Regression"
   ]
  },
  {
   "cell_type": "markdown",
   "metadata": {},
   "source": [
    "The next kind of model we can build for prediction is a Random Forest Regression"
   ]
  },
  {
   "cell_type": "markdown",
   "metadata": {},
   "source": [
    "#### Separating X and Y Variables"
   ]
  },
  {
   "cell_type": "code",
   "execution_count": 35,
   "metadata": {},
   "outputs": [],
   "source": [
    "X2 = assessment_1.iloc[:,1:3].values\n",
    "y2 = assessment_1.iloc[:, 0].values"
   ]
  },
  {
   "cell_type": "markdown",
   "metadata": {},
   "source": [
    "#### Creating a Training and Test Set"
   ]
  },
  {
   "cell_type": "code",
   "execution_count": 36,
   "metadata": {},
   "outputs": [],
   "source": [
    "from sklearn.model_selection import train_test_split\n",
    "\n",
    "X2_train, X2_test, y2_train, y2_test = train_test_split(X2, y2, test_size = .2, random_state=0)"
   ]
  },
  {
   "cell_type": "code",
   "execution_count": 37,
   "metadata": {},
   "outputs": [
    {
     "data": {
      "text/plain": [
       "RandomForestRegressor(bootstrap=True, criterion='mse', max_depth=None,\n",
       "           max_features='auto', max_leaf_nodes=None,\n",
       "           min_impurity_decrease=0.0, min_impurity_split=None,\n",
       "           min_samples_leaf=1, min_samples_split=2,\n",
       "           min_weight_fraction_leaf=0.0, n_estimators=200, n_jobs=None,\n",
       "           oob_score=False, random_state=None, verbose=0, warm_start=False)"
      ]
     },
     "execution_count": 37,
     "metadata": {},
     "output_type": "execute_result"
    }
   ],
   "source": [
    "from sklearn.ensemble import RandomForestRegressor\n",
    "\n",
    "rfr = RandomForestRegressor(n_estimators=200)\n",
    "rfr.fit(X2_train, y2_train)"
   ]
  },
  {
   "cell_type": "code",
   "execution_count": 38,
   "metadata": {},
   "outputs": [
    {
     "name": "stdout",
     "output_type": "stream",
     "text": [
      "0.9592131215836533\n",
      "0.6817685282591749\n"
     ]
    }
   ],
   "source": [
    "print(rfr.score(X2_train, y2_train))\n",
    "print(rfr.score(X2_test, y2_test))"
   ]
  },
  {
   "cell_type": "markdown",
   "metadata": {},
   "source": [
    "Well, compared to the simple linear regression model the Random Forest regression is more accurate in the sense that both the training and test set can explain a high degree of variance in the model. However, the Random Forest model is suffering from both overfitting and high variance due to the large discrepancy in R-squared values between the training and test sets. Nevertheless we will continue"
   ]
  },
  {
   "cell_type": "code",
   "execution_count": 39,
   "metadata": {},
   "outputs": [
    {
     "name": "stdout",
     "output_type": "stream",
     "text": [
      "1.1173686514880536\n"
     ]
    }
   ],
   "source": [
    "rmse_rfr = sqrt(mean_squared_error(rfr.predict(X2_test), y2_test))\n",
    "\n",
    "print(rmse_rfr)"
   ]
  },
  {
   "cell_type": "code",
   "execution_count": 40,
   "metadata": {},
   "outputs": [],
   "source": [
    "rfr_pred = rfr.predict(X_test2)"
   ]
  },
  {
   "cell_type": "code",
   "execution_count": 41,
   "metadata": {},
   "outputs": [
    {
     "name": "stdout",
     "output_type": "stream",
     "text": [
      "[-0.47968609  1.37610394 -1.71070713 ...  6.32329002 -0.36622773\n",
      "  0.99749191]\n"
     ]
    }
   ],
   "source": [
    "print(rfr_pred)"
   ]
  },
  {
   "cell_type": "code",
   "execution_count": 42,
   "metadata": {},
   "outputs": [],
   "source": [
    "rfr_model = pd.concat([linear_model, pd.DataFrame(rfr_pred)], axis=1)"
   ]
  },
  {
   "cell_type": "code",
   "execution_count": 43,
   "metadata": {},
   "outputs": [
    {
     "data": {
      "text/html": [
       "<div>\n",
       "<style scoped>\n",
       "    .dataframe tbody tr th:only-of-type {\n",
       "        vertical-align: middle;\n",
       "    }\n",
       "\n",
       "    .dataframe tbody tr th {\n",
       "        vertical-align: top;\n",
       "    }\n",
       "\n",
       "    .dataframe thead th {\n",
       "        text-align: right;\n",
       "    }\n",
       "</style>\n",
       "<table border=\"1\" class=\"dataframe\">\n",
       "  <thead>\n",
       "    <tr style=\"text-align: right;\">\n",
       "      <th></th>\n",
       "      <th>ID</th>\n",
       "      <th>x1</th>\n",
       "      <th>x2</th>\n",
       "      <th>lr_pred</th>\n",
       "      <th>0</th>\n",
       "    </tr>\n",
       "  </thead>\n",
       "  <tbody>\n",
       "    <tr>\n",
       "      <th>0</th>\n",
       "      <td>1</td>\n",
       "      <td>-1.372412</td>\n",
       "      <td>0.641527</td>\n",
       "      <td>-0.673834</td>\n",
       "      <td>-0.479686</td>\n",
       "    </tr>\n",
       "    <tr>\n",
       "      <th>1</th>\n",
       "      <td>2</td>\n",
       "      <td>-1.264036</td>\n",
       "      <td>1.581535</td>\n",
       "      <td>0.477708</td>\n",
       "      <td>1.376104</td>\n",
       "    </tr>\n",
       "    <tr>\n",
       "      <th>2</th>\n",
       "      <td>3</td>\n",
       "      <td>-0.662299</td>\n",
       "      <td>0.302180</td>\n",
       "      <td>-0.692307</td>\n",
       "      <td>-1.710707</td>\n",
       "    </tr>\n",
       "    <tr>\n",
       "      <th>3</th>\n",
       "      <td>4</td>\n",
       "      <td>-0.344315</td>\n",
       "      <td>2.481366</td>\n",
       "      <td>2.012656</td>\n",
       "      <td>0.734119</td>\n",
       "    </tr>\n",
       "    <tr>\n",
       "      <th>4</th>\n",
       "      <td>5</td>\n",
       "      <td>0.463254</td>\n",
       "      <td>1.923973</td>\n",
       "      <td>1.792071</td>\n",
       "      <td>1.694001</td>\n",
       "    </tr>\n",
       "  </tbody>\n",
       "</table>\n",
       "</div>"
      ],
      "text/plain": [
       "   ID        x1        x2   lr_pred         0\n",
       "0   1 -1.372412  0.641527 -0.673834 -0.479686\n",
       "1   2 -1.264036  1.581535  0.477708  1.376104\n",
       "2   3 -0.662299  0.302180 -0.692307 -1.710707\n",
       "3   4 -0.344315  2.481366  2.012656  0.734119\n",
       "4   5  0.463254  1.923973  1.792071  1.694001"
      ]
     },
     "execution_count": 43,
     "metadata": {},
     "output_type": "execute_result"
    }
   ],
   "source": [
    "rfr_model.head()"
   ]
  },
  {
   "cell_type": "code",
   "execution_count": 44,
   "metadata": {},
   "outputs": [],
   "source": [
    "rfr_model = rfr_model.rename({0: 'rfr_pred'}, axis=1)"
   ]
  },
  {
   "cell_type": "code",
   "execution_count": 45,
   "metadata": {},
   "outputs": [
    {
     "data": {
      "text/html": [
       "<div>\n",
       "<style scoped>\n",
       "    .dataframe tbody tr th:only-of-type {\n",
       "        vertical-align: middle;\n",
       "    }\n",
       "\n",
       "    .dataframe tbody tr th {\n",
       "        vertical-align: top;\n",
       "    }\n",
       "\n",
       "    .dataframe thead th {\n",
       "        text-align: right;\n",
       "    }\n",
       "</style>\n",
       "<table border=\"1\" class=\"dataframe\">\n",
       "  <thead>\n",
       "    <tr style=\"text-align: right;\">\n",
       "      <th></th>\n",
       "      <th>ID</th>\n",
       "      <th>x1</th>\n",
       "      <th>x2</th>\n",
       "      <th>lr_pred</th>\n",
       "      <th>rfr_pred</th>\n",
       "    </tr>\n",
       "  </thead>\n",
       "  <tbody>\n",
       "    <tr>\n",
       "      <th>0</th>\n",
       "      <td>1</td>\n",
       "      <td>-1.372412</td>\n",
       "      <td>0.641527</td>\n",
       "      <td>-0.673834</td>\n",
       "      <td>-0.479686</td>\n",
       "    </tr>\n",
       "    <tr>\n",
       "      <th>1</th>\n",
       "      <td>2</td>\n",
       "      <td>-1.264036</td>\n",
       "      <td>1.581535</td>\n",
       "      <td>0.477708</td>\n",
       "      <td>1.376104</td>\n",
       "    </tr>\n",
       "    <tr>\n",
       "      <th>2</th>\n",
       "      <td>3</td>\n",
       "      <td>-0.662299</td>\n",
       "      <td>0.302180</td>\n",
       "      <td>-0.692307</td>\n",
       "      <td>-1.710707</td>\n",
       "    </tr>\n",
       "    <tr>\n",
       "      <th>3</th>\n",
       "      <td>4</td>\n",
       "      <td>-0.344315</td>\n",
       "      <td>2.481366</td>\n",
       "      <td>2.012656</td>\n",
       "      <td>0.734119</td>\n",
       "    </tr>\n",
       "    <tr>\n",
       "      <th>4</th>\n",
       "      <td>5</td>\n",
       "      <td>0.463254</td>\n",
       "      <td>1.923973</td>\n",
       "      <td>1.792071</td>\n",
       "      <td>1.694001</td>\n",
       "    </tr>\n",
       "  </tbody>\n",
       "</table>\n",
       "</div>"
      ],
      "text/plain": [
       "   ID        x1        x2   lr_pred  rfr_pred\n",
       "0   1 -1.372412  0.641527 -0.673834 -0.479686\n",
       "1   2 -1.264036  1.581535  0.477708  1.376104\n",
       "2   3 -0.662299  0.302180 -0.692307 -1.710707\n",
       "3   4 -0.344315  2.481366  2.012656  0.734119\n",
       "4   5  0.463254  1.923973  1.792071  1.694001"
      ]
     },
     "execution_count": 45,
     "metadata": {},
     "output_type": "execute_result"
    }
   ],
   "source": [
    "rfr_model.head()"
   ]
  },
  {
   "cell_type": "markdown",
   "metadata": {},
   "source": [
    "# XGBoost Regression"
   ]
  },
  {
   "cell_type": "markdown",
   "metadata": {},
   "source": [
    "The final model I wanted to create for predictions is an XGBoost model"
   ]
  },
  {
   "cell_type": "markdown",
   "metadata": {},
   "source": [
    "#### Separating X and Y Values"
   ]
  },
  {
   "cell_type": "code",
   "execution_count": 46,
   "metadata": {},
   "outputs": [],
   "source": [
    "X3 = assessment_1.iloc[:,1:3].values\n",
    "y3 = assessment_1.iloc[:, 0].values"
   ]
  },
  {
   "cell_type": "markdown",
   "metadata": {},
   "source": [
    "#### Creating a Training and Test Set"
   ]
  },
  {
   "cell_type": "code",
   "execution_count": 47,
   "metadata": {},
   "outputs": [],
   "source": [
    "from sklearn.model_selection import train_test_split\n",
    "\n",
    "X3_train, X3_test, y3_train, y3_test = train_test_split(X3, y3, test_size = .2, random_state=0)"
   ]
  },
  {
   "cell_type": "code",
   "execution_count": 48,
   "metadata": {},
   "outputs": [],
   "source": [
    "import xgboost as xgb\n",
    "xgb_reg = xgb.XGBRegressor()"
   ]
  },
  {
   "cell_type": "code",
   "execution_count": 49,
   "metadata": {},
   "outputs": [
    {
     "name": "stdout",
     "output_type": "stream",
     "text": [
      "[20:23:56] WARNING: src/objective/regression_obj.cu:152: reg:linear is now deprecated in favor of reg:squarederror.\n"
     ]
    },
    {
     "data": {
      "text/plain": [
       "XGBRegressor(base_score=0.5, booster='gbtree', colsample_bylevel=1,\n",
       "       colsample_bynode=1, colsample_bytree=1, gamma=0,\n",
       "       importance_type='gain', learning_rate=0.1, max_delta_step=0,\n",
       "       max_depth=3, min_child_weight=1, missing=None, n_estimators=100,\n",
       "       n_jobs=1, nthread=None, objective='reg:linear', random_state=0,\n",
       "       reg_alpha=0, reg_lambda=1, scale_pos_weight=1, seed=None,\n",
       "       silent=None, subsample=1, verbosity=1)"
      ]
     },
     "execution_count": 49,
     "metadata": {},
     "output_type": "execute_result"
    }
   ],
   "source": [
    "xgb_reg.fit(X3_train, y3_train)"
   ]
  },
  {
   "cell_type": "code",
   "execution_count": 50,
   "metadata": {},
   "outputs": [
    {
     "name": "stdout",
     "output_type": "stream",
     "text": [
      "0.7708685576449601\n",
      "0.7283981904970939\n"
     ]
    }
   ],
   "source": [
    "print(xgb_reg.score(X3_train, y3_train))\n",
    "print(xgb_reg.score(X3_test, y3_test))"
   ]
  },
  {
   "cell_type": "markdown",
   "metadata": {},
   "source": [
    "This looks like the best overall model I have built so far. There is a very low discrepancy between the training and test sets. Also, both R-squared values indicate greater than 70% of the variance can be explained. "
   ]
  },
  {
   "cell_type": "code",
   "execution_count": 51,
   "metadata": {},
   "outputs": [
    {
     "name": "stdout",
     "output_type": "stream",
     "text": [
      "1.1173686514880536\n"
     ]
    }
   ],
   "source": [
    "rmse_xgb = sqrt(mean_squared_error(rfr.predict(X3_test), y3_test))\n",
    "\n",
    "print(rmse_xgb)"
   ]
  },
  {
   "cell_type": "code",
   "execution_count": 52,
   "metadata": {},
   "outputs": [],
   "source": [
    "xgb_pred = xgb_reg.predict(X_test2)"
   ]
  },
  {
   "cell_type": "code",
   "execution_count": 53,
   "metadata": {},
   "outputs": [
    {
     "name": "stdout",
     "output_type": "stream",
     "text": [
      "[-0.23003745  1.6047343  -1.5050387  ...  5.892529    0.40485352\n",
      "  0.47726625]\n"
     ]
    }
   ],
   "source": [
    "print(xgb_pred)"
   ]
  },
  {
   "cell_type": "code",
   "execution_count": 54,
   "metadata": {},
   "outputs": [],
   "source": [
    "xbg_model = pd.concat([rfr_model, pd.DataFrame(xgb_pred)], axis=1)"
   ]
  },
  {
   "cell_type": "code",
   "execution_count": 55,
   "metadata": {},
   "outputs": [
    {
     "data": {
      "text/html": [
       "<div>\n",
       "<style scoped>\n",
       "    .dataframe tbody tr th:only-of-type {\n",
       "        vertical-align: middle;\n",
       "    }\n",
       "\n",
       "    .dataframe tbody tr th {\n",
       "        vertical-align: top;\n",
       "    }\n",
       "\n",
       "    .dataframe thead th {\n",
       "        text-align: right;\n",
       "    }\n",
       "</style>\n",
       "<table border=\"1\" class=\"dataframe\">\n",
       "  <thead>\n",
       "    <tr style=\"text-align: right;\">\n",
       "      <th></th>\n",
       "      <th>ID</th>\n",
       "      <th>x1</th>\n",
       "      <th>x2</th>\n",
       "      <th>lr_pred</th>\n",
       "      <th>rfr_pred</th>\n",
       "      <th>0</th>\n",
       "    </tr>\n",
       "  </thead>\n",
       "  <tbody>\n",
       "    <tr>\n",
       "      <th>0</th>\n",
       "      <td>1</td>\n",
       "      <td>-1.372412</td>\n",
       "      <td>0.641527</td>\n",
       "      <td>-0.673834</td>\n",
       "      <td>-0.479686</td>\n",
       "      <td>-0.230037</td>\n",
       "    </tr>\n",
       "    <tr>\n",
       "      <th>1</th>\n",
       "      <td>2</td>\n",
       "      <td>-1.264036</td>\n",
       "      <td>1.581535</td>\n",
       "      <td>0.477708</td>\n",
       "      <td>1.376104</td>\n",
       "      <td>1.604734</td>\n",
       "    </tr>\n",
       "    <tr>\n",
       "      <th>2</th>\n",
       "      <td>3</td>\n",
       "      <td>-0.662299</td>\n",
       "      <td>0.302180</td>\n",
       "      <td>-0.692307</td>\n",
       "      <td>-1.710707</td>\n",
       "      <td>-1.505039</td>\n",
       "    </tr>\n",
       "    <tr>\n",
       "      <th>3</th>\n",
       "      <td>4</td>\n",
       "      <td>-0.344315</td>\n",
       "      <td>2.481366</td>\n",
       "      <td>2.012656</td>\n",
       "      <td>0.734119</td>\n",
       "      <td>1.655975</td>\n",
       "    </tr>\n",
       "    <tr>\n",
       "      <th>4</th>\n",
       "      <td>5</td>\n",
       "      <td>0.463254</td>\n",
       "      <td>1.923973</td>\n",
       "      <td>1.792071</td>\n",
       "      <td>1.694001</td>\n",
       "      <td>1.563035</td>\n",
       "    </tr>\n",
       "  </tbody>\n",
       "</table>\n",
       "</div>"
      ],
      "text/plain": [
       "   ID        x1        x2   lr_pred  rfr_pred         0\n",
       "0   1 -1.372412  0.641527 -0.673834 -0.479686 -0.230037\n",
       "1   2 -1.264036  1.581535  0.477708  1.376104  1.604734\n",
       "2   3 -0.662299  0.302180 -0.692307 -1.710707 -1.505039\n",
       "3   4 -0.344315  2.481366  2.012656  0.734119  1.655975\n",
       "4   5  0.463254  1.923973  1.792071  1.694001  1.563035"
      ]
     },
     "execution_count": 55,
     "metadata": {},
     "output_type": "execute_result"
    }
   ],
   "source": [
    "xbg_model.head()"
   ]
  },
  {
   "cell_type": "code",
   "execution_count": 56,
   "metadata": {},
   "outputs": [],
   "source": [
    "xbg_model = xbg_model.rename({0: 'xgb_pred'}, axis=1)"
   ]
  },
  {
   "cell_type": "code",
   "execution_count": 57,
   "metadata": {},
   "outputs": [
    {
     "data": {
      "text/html": [
       "<div>\n",
       "<style scoped>\n",
       "    .dataframe tbody tr th:only-of-type {\n",
       "        vertical-align: middle;\n",
       "    }\n",
       "\n",
       "    .dataframe tbody tr th {\n",
       "        vertical-align: top;\n",
       "    }\n",
       "\n",
       "    .dataframe thead th {\n",
       "        text-align: right;\n",
       "    }\n",
       "</style>\n",
       "<table border=\"1\" class=\"dataframe\">\n",
       "  <thead>\n",
       "    <tr style=\"text-align: right;\">\n",
       "      <th></th>\n",
       "      <th>ID</th>\n",
       "      <th>x1</th>\n",
       "      <th>x2</th>\n",
       "      <th>lr_pred</th>\n",
       "      <th>rfr_pred</th>\n",
       "      <th>xgb_pred</th>\n",
       "    </tr>\n",
       "  </thead>\n",
       "  <tbody>\n",
       "    <tr>\n",
       "      <th>0</th>\n",
       "      <td>1</td>\n",
       "      <td>-1.372412</td>\n",
       "      <td>0.641527</td>\n",
       "      <td>-0.673834</td>\n",
       "      <td>-0.479686</td>\n",
       "      <td>-0.230037</td>\n",
       "    </tr>\n",
       "    <tr>\n",
       "      <th>1</th>\n",
       "      <td>2</td>\n",
       "      <td>-1.264036</td>\n",
       "      <td>1.581535</td>\n",
       "      <td>0.477708</td>\n",
       "      <td>1.376104</td>\n",
       "      <td>1.604734</td>\n",
       "    </tr>\n",
       "    <tr>\n",
       "      <th>2</th>\n",
       "      <td>3</td>\n",
       "      <td>-0.662299</td>\n",
       "      <td>0.302180</td>\n",
       "      <td>-0.692307</td>\n",
       "      <td>-1.710707</td>\n",
       "      <td>-1.505039</td>\n",
       "    </tr>\n",
       "    <tr>\n",
       "      <th>3</th>\n",
       "      <td>4</td>\n",
       "      <td>-0.344315</td>\n",
       "      <td>2.481366</td>\n",
       "      <td>2.012656</td>\n",
       "      <td>0.734119</td>\n",
       "      <td>1.655975</td>\n",
       "    </tr>\n",
       "    <tr>\n",
       "      <th>4</th>\n",
       "      <td>5</td>\n",
       "      <td>0.463254</td>\n",
       "      <td>1.923973</td>\n",
       "      <td>1.792071</td>\n",
       "      <td>1.694001</td>\n",
       "      <td>1.563035</td>\n",
       "    </tr>\n",
       "  </tbody>\n",
       "</table>\n",
       "</div>"
      ],
      "text/plain": [
       "   ID        x1        x2   lr_pred  rfr_pred  xgb_pred\n",
       "0   1 -1.372412  0.641527 -0.673834 -0.479686 -0.230037\n",
       "1   2 -1.264036  1.581535  0.477708  1.376104  1.604734\n",
       "2   3 -0.662299  0.302180 -0.692307 -1.710707 -1.505039\n",
       "3   4 -0.344315  2.481366  2.012656  0.734119  1.655975\n",
       "4   5  0.463254  1.923973  1.792071  1.694001  1.563035"
      ]
     },
     "execution_count": 57,
     "metadata": {},
     "output_type": "execute_result"
    }
   ],
   "source": [
    "xbg_model.head()"
   ]
  },
  {
   "cell_type": "code",
   "execution_count": 58,
   "metadata": {},
   "outputs": [],
   "source": [
    "xbg_model.to_csv(\"TestDataPredictions.csv\")"
   ]
  },
  {
   "cell_type": "markdown",
   "metadata": {},
   "source": [
    "# Final Thoughts"
   ]
  },
  {
   "cell_type": "markdown",
   "metadata": {},
   "source": [
    "1. I cannot add more data to improve the model\n",
    "2. I don't believe I can clean the data since there are aren't any null values and I am working with the assumption there are no errors\n",
    "3. I did not see any outlier values that I would consider eliminating, at least without knowledge of what these variables actually stand for."
   ]
  }
 ],
 "metadata": {
  "kernelspec": {
   "display_name": "Python 3",
   "language": "python",
   "name": "python3"
  },
  "language_info": {
   "codemirror_mode": {
    "name": "ipython",
    "version": 3
   },
   "file_extension": ".py",
   "mimetype": "text/x-python",
   "name": "python",
   "nbconvert_exporter": "python",
   "pygments_lexer": "ipython3",
   "version": "3.7.3"
  }
 },
 "nbformat": 4,
 "nbformat_minor": 2
}
